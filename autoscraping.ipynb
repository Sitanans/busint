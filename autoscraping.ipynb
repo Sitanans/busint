{
 "cells": [
  {
   "cell_type": "code",
   "execution_count": null,
   "metadata": {},
   "outputs": [],
   "source": [
    "import time\n",
    "from selenium import webdriver\n",
    "from selenium.webdriver.common.service import Service\n",
    "from selenium.webdriver.common.by import By\n",
    "\n",
    "import bs4\n",
    "from bs4 import BeautifulSoup\n",
    "import pandas as pd\n",
    "import numpy as np\n",
    "import requests"
   ]
  },
  {
   "cell_type": "code",
   "execution_count": null,
   "metadata": {},
   "outputs": [],
   "source": [
    "# Run time ~40 mins\n",
    "result = []\n",
    "for i in range(150): # 20 condo data per page -> 3000 sample\n",
    "    driver = webdriver.Edge()\n",
    "    driver.get(f\"https://www.ddproperty.com/%E0%B8%A3%E0%B8%A7%E0%B8%A1%E0%B8%9B%E0%B8%A3%E0%B8%B0%E0%B8%81%E0%B8%B2%E0%B8%A8%E0%B8%82%E0%B8%B2%E0%B8%A2/{i+1}?district_code=TH1017&freetext=%E0%B8%AB%E0%B9%89%E0%B8%A7%E0%B8%A2%E0%B8%82%E0%B8%A7%E0%B8%B2%E0%B8%87&property_type=N&property_type_code%5B0%5D=CONDO\")\n",
    "\n",
    "    time.sleep(2)\n",
    "\n",
    "    driver.execute_script(\"window.scrollTo(0, document.body.scrollHeight);\")\n",
    "    driver.implicitly_wait(3.3)\n",
    "    html = driver.page_source\n",
    "    s = BeautifulSoup(html, \"html.parser\")\n",
    "    # close the browser window\n",
    "    driver.quit()\n",
    "    el = s.select(\"div.listing-card\")\n",
    "    for i in el:\n",
    "        try:\n",
    "            name = i.select_one(\"div.header-container\").text.strip()\n",
    "        except AttributeError:\n",
    "            name = None\n",
    "        try:\n",
    "            bts = [i.select('li:nth-of-type(1)') for k in i.select(\"ul.listing-features.pull-left[data-automation-id='listing-features-walk']\")]\n",
    "        except AttributeError:\n",
    "            bts = None\n",
    "        try:\n",
    "            price = i.select_one(\"li.list-price span.price\").text\n",
    "        except AttributeError:\n",
    "            price = None\n",
    "        try:\n",
    "            size = i.select_one('li.listing-floorarea').text\n",
    "        except AttributeError:\n",
    "            size = None\n",
    "        try:\n",
    "            type = i.select_one(\"ul.listing-features.pull-left>li.listing-rooms.pull-left\")\n",
    "        except AttributeError:\n",
    "            type = None\n",
    "        try:\n",
    "            agent = i.select_one(\"div.agent-name\").text.strip()\n",
    "        except AttributeError:\n",
    "            agent = None\n",
    "        try:\n",
    "            year = i.select_one(\"div.clear-both.listing-properties li span:contains('ปีที่สร้างเสร็จ:')\")\n",
    "        except AttributeError:\n",
    "            year = None\n",
    "        try:\n",
    "            new = i.select_one('li.new-launch span')\n",
    "        except AttributeError:\n",
    "            new = None\n",
    "\n",
    "        result.append((name,agent,year,new,price,size,type,bts))"
   ]
  },
  {
   "cell_type": "code",
   "execution_count": null,
   "metadata": {},
   "outputs": [],
   "source": [
    "df = pd.DataFrame(result)"
   ]
  },
  {
   "cell_type": "code",
   "execution_count": null,
   "metadata": {},
   "outputs": [],
   "source": [
    "df"
   ]
  },
  {
   "cell_type": "code",
   "execution_count": null,
   "metadata": {},
   "outputs": [],
   "source": [
    "df.info()"
   ]
  },
  {
   "cell_type": "code",
   "execution_count": null,
   "metadata": {},
   "outputs": [],
   "source": [
    "# Save to file\n",
    "df.to_csv('condo.csv',index=False)"
   ]
  },
  {
   "cell_type": "code",
   "execution_count": null,
   "metadata": {},
   "outputs": [],
   "source": []
  }
 ],
 "metadata": {
  "kernelspec": {
   "display_name": "Python 3",
   "language": "python",
   "name": "python3"
  },
  "language_info": {
   "codemirror_mode": {
    "name": "ipython",
    "version": 3
   },
   "file_extension": ".py",
   "mimetype": "text/x-python",
   "name": "python",
   "nbconvert_exporter": "python",
   "pygments_lexer": "ipython3",
   "version": "3.10.11"
  },
  "orig_nbformat": 4
 },
 "nbformat": 4,
 "nbformat_minor": 2
}
